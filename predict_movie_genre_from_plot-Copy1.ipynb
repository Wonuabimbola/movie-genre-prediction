{
 "cells": [
  {
   "cell_type": "markdown",
   "metadata": {},
   "source": [
    "# Data Exploration and Preprocessing and EDA"
   ]
  },
  {
   "cell_type": "markdown",
   "metadata": {},
   "source": [
    "## Import necessary libraries and packages"
   ]
  },
  {
   "cell_type": "code",
   "execution_count": 1,
   "metadata": {},
   "outputs": [],
   "source": [
    "import pandas as pd\n",
    "import numpy as np\n",
    "import matplotlib.pyplot as plt\n",
    "%matplotlib inline\n",
    "import itertools\n",
    "import warnings\n",
    "import seaborn as sns\n",
    "from imblearn.over_sampling import SMOTE\n",
    "from sklearn.linear_model import LogisticRegression\n",
    "from sklearn.dummy import DummyClassifier\n",
    "from sklearn.model_selection import train_test_split, GridSearchCV\n",
    "from sklearn.pipeline import Pipeline\n",
    "from sklearn.naive_bayes import MultinomialNB\n",
    "from skmultilearn.problem_transform import BinaryRelevance\n",
    "from sklearn.naive_bayes import GaussianNB\n",
    "from sklearn.metrics import accuracy_score, f1_score, precision_score, recall_score, classification_report, plot_confusion_matrix\n",
    "warnings.filterwarnings('ignore')\n",
    "import re\n",
    "import nltk\n",
    "import string\n",
    "from nltk.corpus import stopwords\n",
    "from nltk import word_tokenize, FreqDist\n",
    "from wordcloud import WordCloud, STOPWORDS\n",
    "from sklearn.feature_extraction.text import TfidfVectorizer, CountVectorizer\n",
    "from sklearn.multiclass import OneVsRestClassifier\n",
    "from sklearn.ensemble import RandomForestClassifier\n",
    "from sklearn.tree import DecisionTreeClassifier\n",
    "from yellowbrick.text import FreqDistVisualizer"
   ]
  },
  {
   "cell_type": "markdown",
   "metadata": {},
   "source": [
    "## Read data into pandas"
   ]
  },
  {
   "cell_type": "code",
   "execution_count": 2,
   "metadata": {},
   "outputs": [
    {
     "data": {
      "text/html": [
       "<div>\n",
       "<style scoped>\n",
       "    .dataframe tbody tr th:only-of-type {\n",
       "        vertical-align: middle;\n",
       "    }\n",
       "\n",
       "    .dataframe tbody tr th {\n",
       "        vertical-align: top;\n",
       "    }\n",
       "\n",
       "    .dataframe thead th {\n",
       "        text-align: right;\n",
       "    }\n",
       "</style>\n",
       "<table border=\"1\" class=\"dataframe\">\n",
       "  <thead>\n",
       "    <tr style=\"text-align: right;\">\n",
       "      <th></th>\n",
       "      <th>Release Year</th>\n",
       "      <th>Title</th>\n",
       "      <th>Origin/Ethnicity</th>\n",
       "      <th>Director</th>\n",
       "      <th>Cast</th>\n",
       "      <th>Genre</th>\n",
       "      <th>Wiki Page</th>\n",
       "      <th>Plot</th>\n",
       "    </tr>\n",
       "  </thead>\n",
       "  <tbody>\n",
       "    <tr>\n",
       "      <th>0</th>\n",
       "      <td>1901</td>\n",
       "      <td>Kansas Saloon Smashers</td>\n",
       "      <td>American</td>\n",
       "      <td>Unknown</td>\n",
       "      <td>NaN</td>\n",
       "      <td>unknown</td>\n",
       "      <td>https://en.wikipedia.org/wiki/Kansas_Saloon_Sm...</td>\n",
       "      <td>A bartender is working at a saloon, serving dr...</td>\n",
       "    </tr>\n",
       "    <tr>\n",
       "      <th>1</th>\n",
       "      <td>1901</td>\n",
       "      <td>Love by the Light of the Moon</td>\n",
       "      <td>American</td>\n",
       "      <td>Unknown</td>\n",
       "      <td>NaN</td>\n",
       "      <td>unknown</td>\n",
       "      <td>https://en.wikipedia.org/wiki/Love_by_the_Ligh...</td>\n",
       "      <td>The moon, painted with a smiling face hangs ov...</td>\n",
       "    </tr>\n",
       "    <tr>\n",
       "      <th>2</th>\n",
       "      <td>1901</td>\n",
       "      <td>The Martyred Presidents</td>\n",
       "      <td>American</td>\n",
       "      <td>Unknown</td>\n",
       "      <td>NaN</td>\n",
       "      <td>unknown</td>\n",
       "      <td>https://en.wikipedia.org/wiki/The_Martyred_Pre...</td>\n",
       "      <td>The film, just over a minute long, is composed...</td>\n",
       "    </tr>\n",
       "    <tr>\n",
       "      <th>3</th>\n",
       "      <td>1901</td>\n",
       "      <td>Terrible Teddy, the Grizzly King</td>\n",
       "      <td>American</td>\n",
       "      <td>Unknown</td>\n",
       "      <td>NaN</td>\n",
       "      <td>unknown</td>\n",
       "      <td>https://en.wikipedia.org/wiki/Terrible_Teddy,_...</td>\n",
       "      <td>Lasting just 61 seconds and consisting of two ...</td>\n",
       "    </tr>\n",
       "    <tr>\n",
       "      <th>4</th>\n",
       "      <td>1902</td>\n",
       "      <td>Jack and the Beanstalk</td>\n",
       "      <td>American</td>\n",
       "      <td>George S. Fleming, Edwin S. Porter</td>\n",
       "      <td>NaN</td>\n",
       "      <td>unknown</td>\n",
       "      <td>https://en.wikipedia.org/wiki/Jack_and_the_Bea...</td>\n",
       "      <td>The earliest known adaptation of the classic f...</td>\n",
       "    </tr>\n",
       "  </tbody>\n",
       "</table>\n",
       "</div>"
      ],
      "text/plain": [
       "   Release Year                             Title Origin/Ethnicity  \\\n",
       "0          1901            Kansas Saloon Smashers         American   \n",
       "1          1901     Love by the Light of the Moon         American   \n",
       "2          1901           The Martyred Presidents         American   \n",
       "3          1901  Terrible Teddy, the Grizzly King         American   \n",
       "4          1902            Jack and the Beanstalk         American   \n",
       "\n",
       "                             Director Cast    Genre  \\\n",
       "0                             Unknown  NaN  unknown   \n",
       "1                             Unknown  NaN  unknown   \n",
       "2                             Unknown  NaN  unknown   \n",
       "3                             Unknown  NaN  unknown   \n",
       "4  George S. Fleming, Edwin S. Porter  NaN  unknown   \n",
       "\n",
       "                                           Wiki Page  \\\n",
       "0  https://en.wikipedia.org/wiki/Kansas_Saloon_Sm...   \n",
       "1  https://en.wikipedia.org/wiki/Love_by_the_Ligh...   \n",
       "2  https://en.wikipedia.org/wiki/The_Martyred_Pre...   \n",
       "3  https://en.wikipedia.org/wiki/Terrible_Teddy,_...   \n",
       "4  https://en.wikipedia.org/wiki/Jack_and_the_Bea...   \n",
       "\n",
       "                                                Plot  \n",
       "0  A bartender is working at a saloon, serving dr...  \n",
       "1  The moon, painted with a smiling face hangs ov...  \n",
       "2  The film, just over a minute long, is composed...  \n",
       "3  Lasting just 61 seconds and consisting of two ...  \n",
       "4  The earliest known adaptation of the classic f...  "
      ]
     },
     "execution_count": 2,
     "metadata": {},
     "output_type": "execute_result"
    }
   ],
   "source": [
    "wiki= pd.read_csv('./data/wiki_movie_plots_deduped.csv')\n",
    "\n",
    "wiki.head()"
   ]
  },
  {
   "cell_type": "markdown",
   "metadata": {},
   "source": [
    "## Descriptive Statistics"
   ]
  },
  {
   "cell_type": "markdown",
   "metadata": {},
   "source": [
    "The release years range from 1901 to 2017 in the dataset"
   ]
  },
  {
   "cell_type": "code",
   "execution_count": 3,
   "metadata": {},
   "outputs": [
    {
     "data": {
      "text/html": [
       "<div>\n",
       "<style scoped>\n",
       "    .dataframe tbody tr th:only-of-type {\n",
       "        vertical-align: middle;\n",
       "    }\n",
       "\n",
       "    .dataframe tbody tr th {\n",
       "        vertical-align: top;\n",
       "    }\n",
       "\n",
       "    .dataframe thead th {\n",
       "        text-align: right;\n",
       "    }\n",
       "</style>\n",
       "<table border=\"1\" class=\"dataframe\">\n",
       "  <thead>\n",
       "    <tr style=\"text-align: right;\">\n",
       "      <th></th>\n",
       "      <th>Release Year</th>\n",
       "    </tr>\n",
       "  </thead>\n",
       "  <tbody>\n",
       "    <tr>\n",
       "      <th>count</th>\n",
       "      <td>34886.000000</td>\n",
       "    </tr>\n",
       "    <tr>\n",
       "      <th>mean</th>\n",
       "      <td>1981.314252</td>\n",
       "    </tr>\n",
       "    <tr>\n",
       "      <th>std</th>\n",
       "      <td>27.815174</td>\n",
       "    </tr>\n",
       "    <tr>\n",
       "      <th>min</th>\n",
       "      <td>1901.000000</td>\n",
       "    </tr>\n",
       "    <tr>\n",
       "      <th>25%</th>\n",
       "      <td>1957.000000</td>\n",
       "    </tr>\n",
       "    <tr>\n",
       "      <th>50%</th>\n",
       "      <td>1988.000000</td>\n",
       "    </tr>\n",
       "    <tr>\n",
       "      <th>75%</th>\n",
       "      <td>2007.000000</td>\n",
       "    </tr>\n",
       "    <tr>\n",
       "      <th>max</th>\n",
       "      <td>2017.000000</td>\n",
       "    </tr>\n",
       "  </tbody>\n",
       "</table>\n",
       "</div>"
      ],
      "text/plain": [
       "       Release Year\n",
       "count  34886.000000\n",
       "mean    1981.314252\n",
       "std       27.815174\n",
       "min     1901.000000\n",
       "25%     1957.000000\n",
       "50%     1988.000000\n",
       "75%     2007.000000\n",
       "max     2017.000000"
      ]
     },
     "execution_count": 3,
     "metadata": {},
     "output_type": "execute_result"
    }
   ],
   "source": [
    "wiki.describe()"
   ]
  },
  {
   "cell_type": "markdown",
   "metadata": {},
   "source": [
    "There are 34886 rows and 8 columns "
   ]
  },
  {
   "cell_type": "code",
   "execution_count": 4,
   "metadata": {},
   "outputs": [
    {
     "data": {
      "text/plain": [
       "(34886, 8)"
      ]
     },
     "execution_count": 4,
     "metadata": {},
     "output_type": "execute_result"
    }
   ],
   "source": [
    "wiki.shape"
   ]
  },
  {
   "cell_type": "code",
   "execution_count": 5,
   "metadata": {},
   "outputs": [
    {
     "name": "stdout",
     "output_type": "stream",
     "text": [
      "<class 'pandas.core.frame.DataFrame'>\n",
      "RangeIndex: 34886 entries, 0 to 34885\n",
      "Data columns (total 8 columns):\n",
      " #   Column            Non-Null Count  Dtype \n",
      "---  ------            --------------  ----- \n",
      " 0   Release Year      34886 non-null  int64 \n",
      " 1   Title             34886 non-null  object\n",
      " 2   Origin/Ethnicity  34886 non-null  object\n",
      " 3   Director          34886 non-null  object\n",
      " 4   Cast              33464 non-null  object\n",
      " 5   Genre             34886 non-null  object\n",
      " 6   Wiki Page         34886 non-null  object\n",
      " 7   Plot              34886 non-null  object\n",
      "dtypes: int64(1), object(7)\n",
      "memory usage: 2.1+ MB\n"
     ]
    }
   ],
   "source": [
    "wiki.info()"
   ]
  },
  {
   "cell_type": "code",
   "execution_count": 6,
   "metadata": {},
   "outputs": [
    {
     "data": {
      "image/png": "[encoded data removed]",
      "text/plain": [
       "<Figure size 720x432 with 1 Axes>"
      ]
     },
     "metadata": {},
     "output_type": "display_data"
    }
   ],
   "source": [
    "fig, ax = plt.subplots(figsize=(10,6))\n",
    "\n",
    "sns.histplot(x = wiki['Release Year'])\n",
    "plt.title('Frequency of Release Years')\n",
    "plt.xlabel('Realease Year')\n",
    "plt.ylabel('Frequency of Occurence')\n",
    "fig.savefig('./images/freqofreleaseyear.png');"
   ]
  },
  {
   "cell_type": "code",
   "execution_count": 7,
   "metadata": {},
   "outputs": [
    {
     "data": {
      "image/png": "[encoded data removed]",
      "text/plain": [
       "<Figure size 720x432 with 1 Axes>"
      ]
     },
     "metadata": {},
     "output_type": "display_data"
    }
   ],
   "source": [
    "fig, ax = plt.subplots(figsize=(10,6))\n",
    "\n",
    "sns.countplot(x = wiki['Origin/Ethnicity'])\n",
    "plt.gcf().subplots_adjust(bottom=0.15)\n",
    "plt.xticks(rotation = 90)\n",
    "plt.title('Distribution of Movie Origin')\n",
    "plt.xlabel('Movie Origin')\n",
    "plt.ylabel('Frequency Distribution')\n",
    "fig.savefig('./images/FreqDistOrigin.png');"
   ]
  },
  {
   "cell_type": "markdown",
   "metadata": {},
   "source": [
    "## Subsetting the dataset to include only the entries with a known genre and resetting the index"
   ]
  },
  {
   "cell_type": "code",
   "execution_count": 8,
   "metadata": {},
   "outputs": [],
   "source": [
    "wiki_df = wiki.loc[wiki['Genre']!='unknown']\n",
    "wiki_df.reset_index(drop = True, inplace = True)"
   ]
  },
  {
   "cell_type": "markdown",
   "metadata": {},
   "source": [
    "Checking the number of unique values we have in the genres column"
   ]
  },
  {
   "cell_type": "code",
   "execution_count": 9,
   "metadata": {},
   "outputs": [
    {
     "name": "stdout",
     "output_type": "stream",
     "text": [
      "There are  2264 different Genres in the dataset:\n",
      "--------------------------------------------------\n",
      "drama                                5964\n",
      "comedy                               4379\n",
      "horror                               1167\n",
      "action                               1098\n",
      "thriller                              966\n",
      "                                     ... \n",
      "animation musical                       1\n",
      "drama, erotic                           1\n",
      "tapas paul, debashree roy               1\n",
      "musical / fantasy / comedy              1\n",
      "prabhas, trisha krishnan, charmme       1\n",
      "Name: Genre, Length: 2264, dtype: int64\n"
     ]
    }
   ],
   "source": [
    "genres=pd.value_counts(wiki_df.Genre)\n",
    "\n",
    "print('There are ',len(genres), 'different Genres in the dataset:')\n",
    "print('-'*50)\n",
    "print(genres)"
   ]
  },
  {
   "cell_type": "markdown",
   "metadata": {},
   "source": [
    "## Getting the top 6 most commonly occuring genres in the dataset"
   ]
  },
  {
   "cell_type": "code",
   "execution_count": 10,
   "metadata": {},
   "outputs": [
    {
     "data": {
      "text/html": [
       "<div>\n",
       "<style scoped>\n",
       "    .dataframe tbody tr th:only-of-type {\n",
       "        vertical-align: middle;\n",
       "    }\n",
       "\n",
       "    .dataframe tbody tr th {\n",
       "        vertical-align: top;\n",
       "    }\n",
       "\n",
       "    .dataframe thead th {\n",
       "        text-align: right;\n",
       "    }\n",
       "</style>\n",
       "<table border=\"1\" class=\"dataframe\">\n",
       "  <thead>\n",
       "    <tr style=\"text-align: right;\">\n",
       "      <th></th>\n",
       "      <th>genres</th>\n",
       "      <th>number_of_movies</th>\n",
       "    </tr>\n",
       "  </thead>\n",
       "  <tbody>\n",
       "    <tr>\n",
       "      <th>0</th>\n",
       "      <td>drama</td>\n",
       "      <td>5964</td>\n",
       "    </tr>\n",
       "    <tr>\n",
       "      <th>1</th>\n",
       "      <td>comedy</td>\n",
       "      <td>4379</td>\n",
       "    </tr>\n",
       "    <tr>\n",
       "      <th>2</th>\n",
       "      <td>horror</td>\n",
       "      <td>1167</td>\n",
       "    </tr>\n",
       "    <tr>\n",
       "      <th>3</th>\n",
       "      <td>action</td>\n",
       "      <td>1098</td>\n",
       "    </tr>\n",
       "    <tr>\n",
       "      <th>4</th>\n",
       "      <td>thriller</td>\n",
       "      <td>966</td>\n",
       "    </tr>\n",
       "    <tr>\n",
       "      <th>5</th>\n",
       "      <td>romance</td>\n",
       "      <td>923</td>\n",
       "    </tr>\n",
       "  </tbody>\n",
       "</table>\n",
       "</div>"
      ],
      "text/plain": [
       "     genres  number_of_movies\n",
       "0     drama              5964\n",
       "1    comedy              4379\n",
       "2    horror              1167\n",
       "3    action              1098\n",
       "4  thriller               966\n",
       "5   romance               923"
      ]
     },
     "execution_count": 10,
     "metadata": {},
     "output_type": "execute_result"
    }
   ],
   "source": [
    "top_genres = pd.DataFrame(genres[:6]).reset_index()\n",
    "top_genres.columns = ['genres', 'number_of_movies']\n",
    "top_genres"
   ]
  },
  {
   "cell_type": "code",
   "execution_count": 11,
   "metadata": {},
   "outputs": [
    {
     "data": {
      "image/png": "[encoded data removed]",
      "text/plain": [
       "<Figure size 1008x576 with 1 Axes>"
      ]
     },
     "metadata": {},
     "output_type": "display_data"
    }
   ],
   "source": [
    "fig, ax = plt.subplots(figsize=(14,8))\n",
    "\n",
    "sns.barplot(top_genres['genres'], top_genres['number_of_movies'])\n",
    "plt.title('Top 6 genres and their frequency')\n",
    "plt.xlabel('genres')\n",
    "plt.ylabel('frequency')\n",
    "fig.savefig('./images/freqoftopgenres.png')"
   ]
  },
  {
   "cell_type": "markdown",
   "metadata": {},
   "source": [
    "## Creating separate labels column for the top 6 genres only and assigning the values between 1-6 for drama, comedy,horror, action, thriller and romance, respectively if present in the genre column of the movie (for entries that have only one genre)"
   ]
  },
  {
   "cell_type": "code",
   "execution_count": 12,
   "metadata": {},
   "outputs": [],
   "source": [
    "conditions = [wiki_df['Genre']=='drama', wiki_df['Genre']=='comedy', wiki_df['Genre']=='horror', wiki_df['Genre']=='action', wiki_df['Genre']=='thriller',\n",
    "             wiki_df['Genre']=='romance']\n",
    "choices = [1,2,3,4,5,6]\n",
    "wiki_df['labels'] = np.select(conditions, choices, 0)"
   ]
  },
  {
   "cell_type": "code",
   "execution_count": 13,
   "metadata": {
    "scrolled": true
   },
   "outputs": [
    {
     "data": {
      "text/html": [
       "<div>\n",
       "<style scoped>\n",
       "    .dataframe tbody tr th:only-of-type {\n",
       "        vertical-align: middle;\n",
       "    }\n",
       "\n",
       "    .dataframe tbody tr th {\n",
       "        vertical-align: top;\n",
       "    }\n",
       "\n",
       "    .dataframe thead th {\n",
       "        text-align: right;\n",
       "    }\n",
       "</style>\n",
       "<table border=\"1\" class=\"dataframe\">\n",
       "  <thead>\n",
       "    <tr style=\"text-align: right;\">\n",
       "      <th></th>\n",
       "      <th>Release Year</th>\n",
       "      <th>Title</th>\n",
       "      <th>Origin/Ethnicity</th>\n",
       "      <th>Director</th>\n",
       "      <th>Cast</th>\n",
       "      <th>Genre</th>\n",
       "      <th>Wiki Page</th>\n",
       "      <th>Plot</th>\n",
       "      <th>labels</th>\n",
       "    </tr>\n",
       "  </thead>\n",
       "  <tbody>\n",
       "    <tr>\n",
       "      <th>5914</th>\n",
       "      <td>1953</td>\n",
       "      <td>Serpent of the Nile</td>\n",
       "      <td>American</td>\n",
       "      <td>William Castle</td>\n",
       "      <td>Rhonda Fleming, Raymond Burr, William Lundigan</td>\n",
       "      <td>adventure</td>\n",
       "      <td>https://en.wikipedia.org/wiki/Serpent_of_the_N...</td>\n",
       "      <td>The film opens in 44 BC, just after the assass...</td>\n",
       "      <td>0</td>\n",
       "    </tr>\n",
       "    <tr>\n",
       "      <th>21213</th>\n",
       "      <td>2015</td>\n",
       "      <td>Born to Be Blue</td>\n",
       "      <td>Canadian</td>\n",
       "      <td>Robert Budreau</td>\n",
       "      <td>Ethan Hawke Carmen Ejogo</td>\n",
       "      <td>biographical drama</td>\n",
       "      <td>https://en.wikipedia.org/wiki/Born_to_Be_Blue_...</td>\n",
       "      <td>The film is described as \"semi-factual, semi-f...</td>\n",
       "      <td>0</td>\n",
       "    </tr>\n",
       "    <tr>\n",
       "      <th>3375</th>\n",
       "      <td>1942</td>\n",
       "      <td>Sundown Jim</td>\n",
       "      <td>American</td>\n",
       "      <td>James Tinling</td>\n",
       "      <td>John Kimbrough, Arleen Whelan, Virginia Gilmore</td>\n",
       "      <td>western</td>\n",
       "      <td>https://en.wikipedia.org/wiki/Sundown_Jim</td>\n",
       "      <td>Into the town of Resurrection rides a lawman, ...</td>\n",
       "      <td>0</td>\n",
       "    </tr>\n",
       "    <tr>\n",
       "      <th>4809</th>\n",
       "      <td>1949</td>\n",
       "      <td>Dancing in the Dark</td>\n",
       "      <td>American</td>\n",
       "      <td>Irving Reis</td>\n",
       "      <td>William Powell, Betsy Drake</td>\n",
       "      <td>musical</td>\n",
       "      <td>https://en.wikipedia.org/wiki/Dancing_in_the_D...</td>\n",
       "      <td>This musical comedy stars William Powell as Em...</td>\n",
       "      <td>0</td>\n",
       "    </tr>\n",
       "    <tr>\n",
       "      <th>26889</th>\n",
       "      <td>1963</td>\n",
       "      <td>Irugu Porugu</td>\n",
       "      <td>Telugu</td>\n",
       "      <td>I. N. Murthy</td>\n",
       "      <td>N. T. Rama Rao, Krishna Kumari, Sobhan Babu</td>\n",
       "      <td>drama</td>\n",
       "      <td>https://en.wikipedia.org/wiki/Irugu_Porugu</td>\n",
       "      <td>Vishwanatham (Gummadi) is a poor writer and dr...</td>\n",
       "      <td>1</td>\n",
       "    </tr>\n",
       "    <tr>\n",
       "      <th>617</th>\n",
       "      <td>1928</td>\n",
       "      <td>Beware of Bachelors</td>\n",
       "      <td>American</td>\n",
       "      <td>Roy Del Ruth</td>\n",
       "      <td>Audrey Ferris, William Collier Jr.</td>\n",
       "      <td>comedy</td>\n",
       "      <td>https://en.wikipedia.org/wiki/Beware_of_Bachelors</td>\n",
       "      <td>A young doctor (William Collier Jr) is accused...</td>\n",
       "      <td>2</td>\n",
       "    </tr>\n",
       "  </tbody>\n",
       "</table>\n",
       "</div>"
      ],
      "text/plain": [
       "       Release Year                Title Origin/Ethnicity        Director  \\\n",
       "5914           1953  Serpent of the Nile         American  William Castle   \n",
       "21213          2015      Born to Be Blue         Canadian  Robert Budreau   \n",
       "3375           1942          Sundown Jim         American   James Tinling   \n",
       "4809           1949  Dancing in the Dark         American     Irving Reis   \n",
       "26889          1963         Irugu Porugu           Telugu    I. N. Murthy   \n",
       "617            1928  Beware of Bachelors         American    Roy Del Ruth   \n",
       "\n",
       "                                                  Cast               Genre  \\\n",
       "5914    Rhonda Fleming, Raymond Burr, William Lundigan           adventure   \n",
       "21213                         Ethan Hawke Carmen Ejogo  biographical drama   \n",
       "3375   John Kimbrough, Arleen Whelan, Virginia Gilmore             western   \n",
       "4809                       William Powell, Betsy Drake             musical   \n",
       "26889      N. T. Rama Rao, Krishna Kumari, Sobhan Babu               drama   \n",
       "617                 Audrey Ferris, William Collier Jr.              comedy   \n",
       "\n",
       "                                               Wiki Page  \\\n",
       "5914   https://en.wikipedia.org/wiki/Serpent_of_the_N...   \n",
       "21213  https://en.wikipedia.org/wiki/Born_to_Be_Blue_...   \n",
       "3375           https://en.wikipedia.org/wiki/Sundown_Jim   \n",
       "4809   https://en.wikipedia.org/wiki/Dancing_in_the_D...   \n",
       "26889         https://en.wikipedia.org/wiki/Irugu_Porugu   \n",
       "617    https://en.wikipedia.org/wiki/Beware_of_Bachelors   \n",
       "\n",
       "                                                    Plot  labels  \n",
       "5914   The film opens in 44 BC, just after the assass...       0  \n",
       "21213  The film is described as \"semi-factual, semi-f...       0  \n",
       "3375   Into the town of Resurrection rides a lawman, ...       0  \n",
       "4809   This musical comedy stars William Powell as Em...       0  \n",
       "26889  Vishwanatham (Gummadi) is a poor writer and dr...       1  \n",
       "617    A young doctor (William Collier Jr) is accused...       2  "
      ]
     },
     "execution_count": 13,
     "metadata": {},
     "output_type": "execute_result"
    }
   ],
   "source": [
    "wiki_df.sample(6)"
   ]
  },
  {
   "cell_type": "code",
   "execution_count": 14,
   "metadata": {},
   "outputs": [
    {
     "data": {
      "text/plain": [
       "0    14306\n",
       "1     5964\n",
       "2     4379\n",
       "3     1167\n",
       "4     1098\n",
       "5      966\n",
       "6      923\n",
       "Name: labels, dtype: int64"
      ]
     },
     "execution_count": 14,
     "metadata": {},
     "output_type": "execute_result"
    }
   ],
   "source": [
    "wiki_df['labels'].value_counts()"
   ]
  },
  {
   "cell_type": "markdown",
   "metadata": {},
   "source": [
    "## Subsetting the wiki_df dataframe to only include the rows that have entries (1-6) in the newly created labels columns (the ones that have only a single genre entry)"
   ]
  },
  {
   "cell_type": "code",
   "execution_count": 15,
   "metadata": {},
   "outputs": [],
   "source": [
    " df_to_use = (wiki_df.loc[wiki_df['labels']!=0]).reset_index(drop = True)"
   ]
  },
  {
   "cell_type": "code",
   "execution_count": 16,
   "metadata": {},
   "outputs": [
    {
     "data": {
      "text/html": [
       "<div>\n",
       "<style scoped>\n",
       "    .dataframe tbody tr th:only-of-type {\n",
       "        vertical-align: middle;\n",
       "    }\n",
       "\n",
       "    .dataframe tbody tr th {\n",
       "        vertical-align: top;\n",
       "    }\n",
       "\n",
       "    .dataframe thead th {\n",
       "        text-align: right;\n",
       "    }\n",
       "</style>\n",
       "<table border=\"1\" class=\"dataframe\">\n",
       "  <thead>\n",
       "    <tr style=\"text-align: right;\">\n",
       "      <th></th>\n",
       "      <th>Release Year</th>\n",
       "      <th>Title</th>\n",
       "      <th>Origin/Ethnicity</th>\n",
       "      <th>Director</th>\n",
       "      <th>Cast</th>\n",
       "      <th>Genre</th>\n",
       "      <th>Wiki Page</th>\n",
       "      <th>Plot</th>\n",
       "      <th>labels</th>\n",
       "    </tr>\n",
       "  </thead>\n",
       "  <tbody>\n",
       "    <tr>\n",
       "      <th>0</th>\n",
       "      <td>1904</td>\n",
       "      <td>The Suburbanite</td>\n",
       "      <td>American</td>\n",
       "      <td>Wallace McCutcheon</td>\n",
       "      <td>NaN</td>\n",
       "      <td>comedy</td>\n",
       "      <td>https://en.wikipedia.org/wiki/The_Suburbanite</td>\n",
       "      <td>The film is about a family who move to the sub...</td>\n",
       "      <td>2</td>\n",
       "    </tr>\n",
       "    <tr>\n",
       "      <th>1</th>\n",
       "      <td>1907</td>\n",
       "      <td>How Brown Saw the Baseball Game</td>\n",
       "      <td>American</td>\n",
       "      <td>Unknown</td>\n",
       "      <td>Unknown</td>\n",
       "      <td>comedy</td>\n",
       "      <td>https://en.wikipedia.org/wiki/How_Brown_Saw_th...</td>\n",
       "      <td>Before heading out to a baseball game at a nea...</td>\n",
       "      <td>2</td>\n",
       "    </tr>\n",
       "    <tr>\n",
       "      <th>2</th>\n",
       "      <td>1907</td>\n",
       "      <td>Laughing Gas</td>\n",
       "      <td>American</td>\n",
       "      <td>Edwin Stanton Porter</td>\n",
       "      <td>Bertha Regustus, Edward Boulden</td>\n",
       "      <td>comedy</td>\n",
       "      <td>https://en.wikipedia.org/wiki/Laughing_Gas_(fi...</td>\n",
       "      <td>The plot is that of a black woman going to the...</td>\n",
       "      <td>2</td>\n",
       "    </tr>\n",
       "    <tr>\n",
       "      <th>3</th>\n",
       "      <td>1908</td>\n",
       "      <td>The Adventures of Dollie</td>\n",
       "      <td>American</td>\n",
       "      <td>D. W. Griffith</td>\n",
       "      <td>Arthur V. Johnson, Linda Arvidson</td>\n",
       "      <td>drama</td>\n",
       "      <td>https://en.wikipedia.org/wiki/The_Adventures_o...</td>\n",
       "      <td>On a beautiful summer day a father and mother ...</td>\n",
       "      <td>1</td>\n",
       "    </tr>\n",
       "    <tr>\n",
       "      <th>4</th>\n",
       "      <td>1908</td>\n",
       "      <td>The Black Viper</td>\n",
       "      <td>American</td>\n",
       "      <td>D. W. Griffith</td>\n",
       "      <td>D. W. Griffith</td>\n",
       "      <td>drama</td>\n",
       "      <td>https://en.wikipedia.org/wiki/The_Black_Viper</td>\n",
       "      <td>A thug accosts a girl as she leaves her workpl...</td>\n",
       "      <td>1</td>\n",
       "    </tr>\n",
       "  </tbody>\n",
       "</table>\n",
       "</div>"
      ],
      "text/plain": [
       "   Release Year                            Title Origin/Ethnicity  \\\n",
       "0          1904                  The Suburbanite         American   \n",
       "1          1907  How Brown Saw the Baseball Game         American   \n",
       "2          1907                     Laughing Gas         American   \n",
       "3          1908         The Adventures of Dollie         American   \n",
       "4          1908                  The Black Viper         American   \n",
       "\n",
       "               Director                               Cast   Genre  \\\n",
       "0    Wallace McCutcheon                                NaN  comedy   \n",
       "1               Unknown                            Unknown  comedy   \n",
       "2  Edwin Stanton Porter    Bertha Regustus, Edward Boulden  comedy   \n",
       "3        D. W. Griffith  Arthur V. Johnson, Linda Arvidson   drama   \n",
       "4        D. W. Griffith                     D. W. Griffith   drama   \n",
       "\n",
       "                                           Wiki Page  \\\n",
       "0      https://en.wikipedia.org/wiki/The_Suburbanite   \n",
       "1  https://en.wikipedia.org/wiki/How_Brown_Saw_th...   \n",
       "2  https://en.wikipedia.org/wiki/Laughing_Gas_(fi...   \n",
       "3  https://en.wikipedia.org/wiki/The_Adventures_o...   \n",
       "4      https://en.wikipedia.org/wiki/The_Black_Viper   \n",
       "\n",
       "                                                Plot  labels  \n",
       "0  The film is about a family who move to the sub...       2  \n",
       "1  Before heading out to a baseball game at a nea...       2  \n",
       "2  The plot is that of a black woman going to the...       2  \n",
       "3  On a beautiful summer day a father and mother ...       1  \n",
       "4  A thug accosts a girl as she leaves her workpl...       1  "
      ]
     },
     "execution_count": 16,
     "metadata": {},
     "output_type": "execute_result"
    }
   ],
   "source": [
    "# We are now left with about 14 thousand rows of data\n",
    "df_to_use.head()"
   ]
  },
  {
   "cell_type": "markdown",
   "metadata": {},
   "source": [
    "Dropping unnecessary columns"
   ]
  },
  {
   "cell_type": "code",
   "execution_count": 17,
   "metadata": {},
   "outputs": [],
   "source": [
    "df_to_use.drop(columns = ['Release Year', 'Origin/Ethnicity', 'Director', 'Cast', 'Wiki Page'], axis = 1, inplace = True)"
   ]
  },
  {
   "cell_type": "code",
   "execution_count": 18,
   "metadata": {},
   "outputs": [
    {
     "data": {
      "text/html": [
       "<div>\n",
       "<style scoped>\n",
       "    .dataframe tbody tr th:only-of-type {\n",
       "        vertical-align: middle;\n",
       "    }\n",
       "\n",
       "    .dataframe tbody tr th {\n",
       "        vertical-align: top;\n",
       "    }\n",
       "\n",
       "    .dataframe thead th {\n",
       "        text-align: right;\n",
       "    }\n",
       "</style>\n",
       "<table border=\"1\" class=\"dataframe\">\n",
       "  <thead>\n",
       "    <tr style=\"text-align: right;\">\n",
       "      <th></th>\n",
       "      <th>Title</th>\n",
       "      <th>Genre</th>\n",
       "      <th>Plot</th>\n",
       "      <th>labels</th>\n",
       "    </tr>\n",
       "  </thead>\n",
       "  <tbody>\n",
       "    <tr>\n",
       "      <th>0</th>\n",
       "      <td>The Suburbanite</td>\n",
       "      <td>comedy</td>\n",
       "      <td>The film is about a family who move to the sub...</td>\n",
       "      <td>2</td>\n",
       "    </tr>\n",
       "    <tr>\n",
       "      <th>1</th>\n",
       "      <td>How Brown Saw the Baseball Game</td>\n",
       "      <td>comedy</td>\n",
       "      <td>Before heading out to a baseball game at a nea...</td>\n",
       "      <td>2</td>\n",
       "    </tr>\n",
       "  </tbody>\n",
       "</table>\n",
       "</div>"
      ],
      "text/plain": [
       "                             Title   Genre  \\\n",
       "0                  The Suburbanite  comedy   \n",
       "1  How Brown Saw the Baseball Game  comedy   \n",
       "\n",
       "                                                Plot  labels  \n",
       "0  The film is about a family who move to the sub...       2  \n",
       "1  Before heading out to a baseball game at a nea...       2  "
      ]
     },
     "execution_count": 18,
     "metadata": {},
     "output_type": "execute_result"
    }
   ],
   "source": [
    "df_to_use.head(2)"
   ]
  },
  {
   "cell_type": "code",
   "execution_count": 19,
   "metadata": {},
   "outputs": [
    {
     "data": {
      "text/html": [
       "<div>\n",
       "<style scoped>\n",
       "    .dataframe tbody tr th:only-of-type {\n",
       "        vertical-align: middle;\n",
       "    }\n",
       "\n",
       "    .dataframe tbody tr th {\n",
       "        vertical-align: top;\n",
       "    }\n",
       "\n",
       "    .dataframe thead th {\n",
       "        text-align: right;\n",
       "    }\n",
       "</style>\n",
       "<table border=\"1\" class=\"dataframe\">\n",
       "  <thead>\n",
       "    <tr style=\"text-align: right;\">\n",
       "      <th></th>\n",
       "      <th>labels</th>\n",
       "    </tr>\n",
       "  </thead>\n",
       "  <tbody>\n",
       "    <tr>\n",
       "      <th>count</th>\n",
       "      <td>14497.000000</td>\n",
       "    </tr>\n",
       "    <tr>\n",
       "      <th>mean</th>\n",
       "      <td>2.275160</td>\n",
       "    </tr>\n",
       "    <tr>\n",
       "      <th>std</th>\n",
       "      <td>1.528956</td>\n",
       "    </tr>\n",
       "    <tr>\n",
       "      <th>min</th>\n",
       "      <td>1.000000</td>\n",
       "    </tr>\n",
       "    <tr>\n",
       "      <th>25%</th>\n",
       "      <td>1.000000</td>\n",
       "    </tr>\n",
       "    <tr>\n",
       "      <th>50%</th>\n",
       "      <td>2.000000</td>\n",
       "    </tr>\n",
       "    <tr>\n",
       "      <th>75%</th>\n",
       "      <td>3.000000</td>\n",
       "    </tr>\n",
       "    <tr>\n",
       "      <th>max</th>\n",
       "      <td>6.000000</td>\n",
       "    </tr>\n",
       "  </tbody>\n",
       "</table>\n",
       "</div>"
      ],
      "text/plain": [
       "             labels\n",
       "count  14497.000000\n",
       "mean       2.275160\n",
       "std        1.528956\n",
       "min        1.000000\n",
       "25%        1.000000\n",
       "50%        2.000000\n",
       "75%        3.000000\n",
       "max        6.000000"
      ]
     },
     "execution_count": 19,
     "metadata": {},
     "output_type": "execute_result"
    }
   ],
   "source": [
    "df_to_use.describe()"
   ]
  },
  {
   "cell_type": "code",
   "execution_count": 20,
   "metadata": {},
   "outputs": [],
   "source": [
    "import random\n",
    "from keras.utils.np_utils import to_categorical\n",
    "from sklearn import preprocessing\n",
    "from keras.preprocessing.text import Tokenizer\n",
    "from keras import models\n",
    "from keras import layers\n",
    "from keras import optimizers"
   ]
  },
  {
   "cell_type": "markdown",
   "metadata": {},
   "source": [
    "## Cleaning up the 'Plot' column"
   ]
  },
  {
   "cell_type": "markdown",
   "metadata": {},
   "source": [
    "Below we are just looking at a sample of the plot summary"
   ]
  },
  {
   "cell_type": "code",
   "execution_count": 31,
   "metadata": {},
   "outputs": [
    {
     "data": {
      "text/plain": [
       "\"A young couple decides to elope after being caught in the midst of a romantic moment by the woman's angry father. They make plans to leave, but a thief discovers their plans and hides in their trunk and waits for the right moment to steal their belongings.\""
      ]
     },
     "execution_count": 31,
     "metadata": {},
     "output_type": "execute_result"
    }
   ],
   "source": [
    "df_to_use['Plot'][5]"
   ]
  },
  {
   "cell_type": "markdown",
   "metadata": {},
   "source": [
    "Creating our stopwords list and adding some cmore words that are very common in the summaries. (I ran the freqdist after this and noticed that some of these words were very common but didn't lend us too much meaning so I came back here to add them to the stopwords list). Changing the text to lower case, removing all the stopwords in our list, stripping unnecessary space and replacing some patterns in our text"
   ]
  },
  {
   "cell_type": "code",
   "execution_count": 32,
   "metadata": {},
   "outputs": [],
   "source": [
    "stopwords_list = stopwords.words('english')\n",
    "stopwords_list += list(string.punctuation)\n",
    "stopwords_list += ['one', 'two', 'go','goes', 'get', 'also', 'however', 'tells'] \n",
    "\n",
    "def clean_text(text):\n",
    "    text = text.lower()\n",
    "    text = re.sub(r\"what's\", \"what is \", text)\n",
    "    text = re.sub(r\"\\'s\", \" \", text)\n",
    "    text = re.sub(r\"\\'ve\", \" have \", text)\n",
    "    text = re.sub(r\"can't\", \"can not \", text)\n",
    "    text = re.sub(r\"n't\", \" not \", text)\n",
    "    text = re.sub(r\"\\'re\", \" are \", text)\n",
    "    text = re.sub(r\"\\'d\", \" would \", text)\n",
    "    text = re.sub(r\"\\'ll\", \" will \", text)\n",
    "    text = re.sub(r\"\\'scuse\", \" excuse \", text)\n",
    "    text = re.sub('\\W', ' ', text)\n",
    "    text = re.sub('\\s+', ' ', text)\n",
    "    text = text.strip(' ')\n",
    "    text = word_tokenize(text)\n",
    "    text = [w for w in text if w not in stopwords_list]\n",
    "    text = ' '.join(text)\n",
    "    return text"
   ]
  },
  {
   "cell_type": "markdown",
   "metadata": {},
   "source": [
    "Rechecking the summary we looked at above to see if our function worked"
   ]
  },
  {
   "cell_type": "code",
   "execution_count": 33,
   "metadata": {},
   "outputs": [
    {
     "data": {
      "text/plain": [
       "'young couple decides elope caught midst romantic moment woman angry father make plans leave thief discovers plans hides trunk waits right moment steal belongings'"
      ]
     },
     "execution_count": 33,
     "metadata": {},
     "output_type": "execute_result"
    }
   ],
   "source": [
    "df_to_use['Plot'] = df_to_use['Plot'].map(lambda x : clean_text(x))\n",
    "df_to_use['Plot'][5]"
   ]
  },
  {
   "cell_type": "code",
   "execution_count": 43,
   "metadata": {},
   "outputs": [],
   "source": [
    "y = df_to_use['Genre']\n",
    "X = df_to_use['Plot']"
   ]
  },
  {
   "cell_type": "code",
   "execution_count": 44,
   "metadata": {},
   "outputs": [],
   "source": [
    "X_train, X_test, y_train, y_test = train_test_split(X, y, test_size = 1500, random_state = 42)"
   ]
  },
  {
   "cell_type": "code",
   "execution_count": 45,
   "metadata": {},
   "outputs": [],
   "source": [
    "X_train_final, X_val, y_train_final, y_val = train_test_split(X_train, y_train, test_size=1000, random_state=42)"
   ]
  },
  {
   "cell_type": "code",
   "execution_count": 46,
   "metadata": {},
   "outputs": [],
   "source": [
    "tokenizer = Tokenizer(num_words=2000)\n",
    "tokenizer.fit_on_texts(X_train_final)\n",
    "\n",
    "\n",
    "\n",
    "X_train_tokens = tokenizer.texts_to_matrix(X_train_final, mode='binary')\n",
    "X_val_tokens = tokenizer.texts_to_matrix(X_val, mode = 'binary')\n",
    "X_test_tokens = tokenizer.texts_to_matrix(X_test, mode='binary')"
   ]
  },
  {
   "cell_type": "code",
   "execution_count": 48,
   "metadata": {},
   "outputs": [],
   "source": [
    "from sklearn.preprocessing import LabelBinarizer\n",
    "lb = LabelBinarizer()\n",
    "lb.fit(y_train_final)\n",
    "\n",
    "y_train_lb = to_categorical(lb.transform(y_train_final))[:, :, 1]\n",
    "y_val_lb = to_categorical(lb.transform(y_val))[:, :, 1]\n",
    "y_test_lb = to_categorical(lb.transform(y_test))[:, :, 1]"
   ]
  },
  {
   "cell_type": "code",
   "execution_count": 50,
   "metadata": {},
   "outputs": [],
   "source": [
    "random.seed(42)\n",
    "from keras import models\n",
    "from keras import layers\n",
    "baseline_model = models.Sequential()\n",
    "baseline_model.add(layers.Dense(50, activation = 'relu', input_shape = (2000,)))\n",
    "baseline_model.add(layers.Dense(25, activation = 'relu'))\n",
    "baseline_model.add(layers.Dense(6, activation = 'softmax'))"
   ]
  },
  {
   "cell_type": "code",
   "execution_count": 51,
   "metadata": {},
   "outputs": [],
   "source": [
    "baseline_model.compile(optimizer='SGD',\n",
    "                      loss = 'categorical_crossentropy',\n",
    "                      metrics = 'accuracy')"
   ]
  },
  {
   "cell_type": "code",
   "execution_count": 52,
   "metadata": {},
   "outputs": [
    {
     "name": "stdout",
     "output_type": "stream",
     "text": [
      "Epoch 1/150\n",
      "47/47 [==============================] - 0s 7ms/step - loss: 1.7376 - accuracy: 0.3092 - val_loss: 1.6723 - val_accuracy: 0.4250\n",
      "Epoch 2/150\n",
      "47/47 [==============================] - 0s 4ms/step - loss: 1.6377 - accuracy: 0.4067 - val_loss: 1.5824 - val_accuracy: 0.4400\n",
      "Epoch 3/150\n",
      "47/47 [==============================] - 0s 4ms/step - loss: 1.5663 - accuracy: 0.4117 - val_loss: 1.5201 - val_accuracy: 0.4410\n",
      "Epoch 4/150\n",
      "47/47 [==============================] - 0s 5ms/step - loss: 1.5186 - accuracy: 0.4136 - val_loss: 1.4790 - val_accuracy: 0.4450\n",
      "Epoch 5/150\n",
      "47/47 [==============================] - 0s 5ms/step - loss: 1.4855 - accuracy: 0.4166 - val_loss: 1.4491 - val_accuracy: 0.4460\n",
      "Epoch 6/150\n",
      "47/47 [==============================] - 0s 6ms/step - loss: 1.4604 - accuracy: 0.4220 - val_loss: 1.4258 - val_accuracy: 0.4500\n",
      "Epoch 7/150\n",
      "47/47 [==============================] - 0s 5ms/step - loss: 1.4388 - accuracy: 0.4275 - val_loss: 1.4058 - val_accuracy: 0.4510\n",
      "Epoch 8/150\n",
      "47/47 [==============================] - 0s 5ms/step - loss: 1.4196 - accuracy: 0.4328 - val_loss: 1.3880 - val_accuracy: 0.4610\n",
      "Epoch 9/150\n",
      "47/47 [==============================] - 0s 5ms/step - loss: 1.4016 - accuracy: 0.4372 - val_loss: 1.3717 - val_accuracy: 0.4700\n",
      "Epoch 10/150\n",
      "47/47 [==============================] - 0s 5ms/step - loss: 1.3845 - accuracy: 0.4432 - val_loss: 1.3565 - val_accuracy: 0.4770\n",
      "Epoch 11/150\n",
      "47/47 [==============================] - 0s 5ms/step - loss: 1.3682 - accuracy: 0.4499 - val_loss: 1.3417 - val_accuracy: 0.4780\n",
      "Epoch 12/150\n",
      "47/47 [==============================] - 0s 6ms/step - loss: 1.3522 - accuracy: 0.4574 - val_loss: 1.3274 - val_accuracy: 0.4820\n",
      "Epoch 13/150\n",
      "47/47 [==============================] - 0s 5ms/step - loss: 1.3363 - accuracy: 0.4610 - val_loss: 1.3137 - val_accuracy: 0.4840\n",
      "Epoch 14/150\n",
      "47/47 [==============================] - 0s 5ms/step - loss: 1.3203 - accuracy: 0.4709 - val_loss: 1.2993 - val_accuracy: 0.4890\n",
      "Epoch 15/150\n",
      "47/47 [==============================] - 0s 5ms/step - loss: 1.3042 - accuracy: 0.4781 - val_loss: 1.2853 - val_accuracy: 0.5020\n",
      "Epoch 16/150\n",
      "47/47 [==============================] - 0s 5ms/step - loss: 1.2878 - accuracy: 0.4891 - val_loss: 1.2708 - val_accuracy: 0.5150\n",
      "Epoch 17/150\n",
      "47/47 [==============================] - 0s 5ms/step - loss: 1.2712 - accuracy: 0.5001 - val_loss: 1.2565 - val_accuracy: 0.5210\n",
      "Epoch 18/150\n",
      "47/47 [==============================] - 0s 5ms/step - loss: 1.2543 - accuracy: 0.5119 - val_loss: 1.2420 - val_accuracy: 0.5320\n",
      "Epoch 19/150\n",
      "47/47 [==============================] - 0s 6ms/step - loss: 1.2371 - accuracy: 0.5211 - val_loss: 1.2279 - val_accuracy: 0.5420\n",
      "Epoch 20/150\n",
      "47/47 [==============================] - 0s 6ms/step - loss: 1.2198 - accuracy: 0.5346 - val_loss: 1.2130 - val_accuracy: 0.5560\n",
      "Epoch 21/150\n",
      "47/47 [==============================] - 0s 5ms/step - loss: 1.2022 - accuracy: 0.5429 - val_loss: 1.1990 - val_accuracy: 0.5680\n",
      "Epoch 22/150\n",
      "47/47 [==============================] - 0s 4ms/step - loss: 1.1847 - accuracy: 0.5503 - val_loss: 1.1859 - val_accuracy: 0.5780\n",
      "Epoch 23/150\n",
      "47/47 [==============================] - 0s 5ms/step - loss: 1.1675 - accuracy: 0.5568 - val_loss: 1.1737 - val_accuracy: 0.5810\n",
      "Epoch 24/150\n",
      "47/47 [==============================] - 0s 5ms/step - loss: 1.1509 - accuracy: 0.5651 - val_loss: 1.1622 - val_accuracy: 0.5870\n",
      "Epoch 25/150\n",
      "47/47 [==============================] - 0s 5ms/step - loss: 1.1347 - accuracy: 0.5706 - val_loss: 1.1509 - val_accuracy: 0.5880\n",
      "Epoch 26/150\n",
      "47/47 [==============================] - 0s 5ms/step - loss: 1.1193 - accuracy: 0.5757 - val_loss: 1.1410 - val_accuracy: 0.5930\n",
      "Epoch 27/150\n",
      "47/47 [==============================] - 0s 5ms/step - loss: 1.1043 - accuracy: 0.5813 - val_loss: 1.1321 - val_accuracy: 0.5930\n",
      "Epoch 28/150\n",
      "47/47 [==============================] - 0s 5ms/step - loss: 1.0900 - accuracy: 0.5887 - val_loss: 1.1232 - val_accuracy: 0.5940\n",
      "Epoch 29/150\n",
      "47/47 [==============================] - 0s 5ms/step - loss: 1.0761 - accuracy: 0.5961 - val_loss: 1.1151 - val_accuracy: 0.6000\n",
      "Epoch 30/150\n",
      "47/47 [==============================] - 0s 6ms/step - loss: 1.0629 - accuracy: 0.5997 - val_loss: 1.1085 - val_accuracy: 0.6030\n",
      "Epoch 31/150\n",
      "47/47 [==============================] - 0s 5ms/step - loss: 1.0504 - accuracy: 0.6070 - val_loss: 1.1015 - val_accuracy: 0.6050\n",
      "Epoch 32/150\n",
      "47/47 [==============================] - 0s 5ms/step - loss: 1.0385 - accuracy: 0.6125 - val_loss: 1.0953 - val_accuracy: 0.6060\n",
      "Epoch 33/150\n",
      "47/47 [==============================] - 0s 6ms/step - loss: 1.0270 - accuracy: 0.6174 - val_loss: 1.0898 - val_accuracy: 0.6080\n",
      "Epoch 34/150\n",
      "47/47 [==============================] - 0s 6ms/step - loss: 1.0156 - accuracy: 0.6214 - val_loss: 1.0848 - val_accuracy: 0.6090\n",
      "Epoch 35/150\n",
      "47/47 [==============================] - 0s 5ms/step - loss: 1.0050 - accuracy: 0.6261 - val_loss: 1.0797 - val_accuracy: 0.6040\n",
      "Epoch 36/150\n",
      "47/47 [==============================] - 0s 5ms/step - loss: 0.9947 - accuracy: 0.6311 - val_loss: 1.0758 - val_accuracy: 0.6150\n",
      "Epoch 37/150\n",
      "47/47 [==============================] - 0s 6ms/step - loss: 0.9848 - accuracy: 0.6348 - val_loss: 1.0716 - val_accuracy: 0.6100\n",
      "Epoch 38/150\n",
      "47/47 [==============================] - 0s 6ms/step - loss: 0.9752 - accuracy: 0.6383 - val_loss: 1.0684 - val_accuracy: 0.6120\n",
      "Epoch 39/150\n",
      "47/47 [==============================] - 0s 7ms/step - loss: 0.9658 - accuracy: 0.6423 - val_loss: 1.0639 - val_accuracy: 0.6200\n",
      "Epoch 40/150\n",
      "47/47 [==============================] - 0s 5ms/step - loss: 0.9572 - accuracy: 0.6450 - val_loss: 1.0610 - val_accuracy: 0.6140\n",
      "Epoch 41/150\n",
      "47/47 [==============================] - 0s 6ms/step - loss: 0.9483 - accuracy: 0.6505 - val_loss: 1.0582 - val_accuracy: 0.6160\n",
      "Epoch 42/150\n",
      "47/47 [==============================] - 0s 6ms/step - loss: 0.9399 - accuracy: 0.6515 - val_loss: 1.0554 - val_accuracy: 0.6100\n",
      "Epoch 43/150\n",
      "47/47 [==============================] - 0s 6ms/step - loss: 0.9316 - accuracy: 0.6559 - val_loss: 1.0531 - val_accuracy: 0.6080\n",
      "Epoch 44/150\n",
      "47/47 [==============================] - 0s 6ms/step - loss: 0.9242 - accuracy: 0.6586 - val_loss: 1.0506 - val_accuracy: 0.6200\n",
      "Epoch 45/150\n",
      "47/47 [==============================] - 0s 6ms/step - loss: 0.9165 - accuracy: 0.6609 - val_loss: 1.0483 - val_accuracy: 0.6220\n",
      "Epoch 46/150\n",
      "47/47 [==============================] - 0s 6ms/step - loss: 0.9089 - accuracy: 0.6639 - val_loss: 1.0454 - val_accuracy: 0.6150\n",
      "Epoch 47/150\n",
      "47/47 [==============================] - 0s 5ms/step - loss: 0.9018 - accuracy: 0.6669 - val_loss: 1.0438 - val_accuracy: 0.6260\n",
      "Epoch 48/150\n",
      "47/47 [==============================] - 0s 4ms/step - loss: 0.8949 - accuracy: 0.6685 - val_loss: 1.0417 - val_accuracy: 0.6180\n",
      "Epoch 49/150\n",
      "47/47 [==============================] - 0s 5ms/step - loss: 0.8878 - accuracy: 0.6694 - val_loss: 1.0403 - val_accuracy: 0.6180\n",
      "Epoch 50/150\n",
      "47/47 [==============================] - 0s 5ms/step - loss: 0.8811 - accuracy: 0.6728 - val_loss: 1.0385 - val_accuracy: 0.6210\n",
      "Epoch 51/150\n",
      "47/47 [==============================] - 0s 4ms/step - loss: 0.8746 - accuracy: 0.6748 - val_loss: 1.0365 - val_accuracy: 0.6230\n",
      "Epoch 52/150\n",
      "47/47 [==============================] - 0s 4ms/step - loss: 0.8680 - accuracy: 0.6771 - val_loss: 1.0365 - val_accuracy: 0.6210\n",
      "Epoch 53/150\n",
      "47/47 [==============================] - 0s 4ms/step - loss: 0.8618 - accuracy: 0.6816 - val_loss: 1.0350 - val_accuracy: 0.6150\n",
      "Epoch 54/150\n",
      "47/47 [==============================] - 0s 5ms/step - loss: 0.8556 - accuracy: 0.6816 - val_loss: 1.0332 - val_accuracy: 0.6190\n",
      "Epoch 55/150\n",
      "47/47 [==============================] - 0s 5ms/step - loss: 0.8496 - accuracy: 0.6839 - val_loss: 1.0322 - val_accuracy: 0.6200\n",
      "Epoch 56/150\n",
      "47/47 [==============================] - 0s 4ms/step - loss: 0.8438 - accuracy: 0.6853 - val_loss: 1.0305 - val_accuracy: 0.6220\n",
      "Epoch 57/150\n",
      "47/47 [==============================] - 0s 5ms/step - loss: 0.8379 - accuracy: 0.6872 - val_loss: 1.0306 - val_accuracy: 0.6220\n",
      "Epoch 58/150\n",
      "47/47 [==============================] - 0s 4ms/step - loss: 0.8322 - accuracy: 0.6894 - val_loss: 1.0305 - val_accuracy: 0.6210\n"
     ]
    },
    {
     "name": "stdout",
     "output_type": "stream",
     "text": [
      "Epoch 59/150\n",
      "47/47 [==============================] - 0s 5ms/step - loss: 0.8265 - accuracy: 0.6916 - val_loss: 1.0284 - val_accuracy: 0.6240\n",
      "Epoch 60/150\n",
      "47/47 [==============================] - 0s 4ms/step - loss: 0.8211 - accuracy: 0.6938 - val_loss: 1.0280 - val_accuracy: 0.6250\n",
      "Epoch 61/150\n",
      "47/47 [==============================] - 0s 5ms/step - loss: 0.8157 - accuracy: 0.6949 - val_loss: 1.0275 - val_accuracy: 0.6240\n",
      "Epoch 62/150\n",
      "47/47 [==============================] - 0s 4ms/step - loss: 0.8103 - accuracy: 0.6971 - val_loss: 1.0266 - val_accuracy: 0.6250\n",
      "Epoch 63/150\n",
      "47/47 [==============================] - 0s 4ms/step - loss: 0.8048 - accuracy: 0.6996 - val_loss: 1.0257 - val_accuracy: 0.6300\n",
      "Epoch 64/150\n",
      "47/47 [==============================] - 0s 4ms/step - loss: 0.7998 - accuracy: 0.7023 - val_loss: 1.0255 - val_accuracy: 0.6310\n",
      "Epoch 65/150\n",
      "47/47 [==============================] - 0s 4ms/step - loss: 0.7944 - accuracy: 0.7031 - val_loss: 1.0252 - val_accuracy: 0.6350\n",
      "Epoch 66/150\n",
      "47/47 [==============================] - 0s 4ms/step - loss: 0.7893 - accuracy: 0.7047 - val_loss: 1.0251 - val_accuracy: 0.6260\n",
      "Epoch 67/150\n",
      "47/47 [==============================] - 0s 5ms/step - loss: 0.7845 - accuracy: 0.7073 - val_loss: 1.0242 - val_accuracy: 0.6300\n",
      "Epoch 68/150\n",
      "47/47 [==============================] - 0s 4ms/step - loss: 0.7795 - accuracy: 0.7101 - val_loss: 1.0261 - val_accuracy: 0.6220\n",
      "Epoch 69/150\n",
      "47/47 [==============================] - 0s 4ms/step - loss: 0.7749 - accuracy: 0.7105 - val_loss: 1.0245 - val_accuracy: 0.6260\n",
      "Epoch 70/150\n",
      "47/47 [==============================] - 0s 5ms/step - loss: 0.7699 - accuracy: 0.7122 - val_loss: 1.0246 - val_accuracy: 0.6260\n",
      "Epoch 71/150\n",
      "47/47 [==============================] - 0s 5ms/step - loss: 0.7651 - accuracy: 0.7138 - val_loss: 1.0249 - val_accuracy: 0.6350\n",
      "Epoch 72/150\n",
      "47/47 [==============================] - 0s 4ms/step - loss: 0.7604 - accuracy: 0.7153 - val_loss: 1.0252 - val_accuracy: 0.6330\n",
      "Epoch 73/150\n",
      "47/47 [==============================] - 0s 4ms/step - loss: 0.7555 - accuracy: 0.7165 - val_loss: 1.0263 - val_accuracy: 0.6370\n",
      "Epoch 74/150\n",
      "47/47 [==============================] - 0s 5ms/step - loss: 0.7512 - accuracy: 0.7190 - val_loss: 1.0259 - val_accuracy: 0.6360\n",
      "Epoch 75/150\n",
      "47/47 [==============================] - 0s 6ms/step - loss: 0.7468 - accuracy: 0.7209 - val_loss: 1.0255 - val_accuracy: 0.6340\n",
      "Epoch 76/150\n",
      "47/47 [==============================] - 0s 5ms/step - loss: 0.7425 - accuracy: 0.7232 - val_loss: 1.0258 - val_accuracy: 0.6350\n",
      "Epoch 77/150\n",
      "47/47 [==============================] - 0s 5ms/step - loss: 0.7373 - accuracy: 0.7240 - val_loss: 1.0279 - val_accuracy: 0.6360\n",
      "Epoch 78/150\n",
      "47/47 [==============================] - 0s 5ms/step - loss: 0.7331 - accuracy: 0.7265 - val_loss: 1.0269 - val_accuracy: 0.6370\n",
      "Epoch 79/150\n",
      "47/47 [==============================] - 0s 4ms/step - loss: 0.7288 - accuracy: 0.7280 - val_loss: 1.0275 - val_accuracy: 0.6340\n",
      "Epoch 80/150\n",
      "47/47 [==============================] - 0s 4ms/step - loss: 0.7243 - accuracy: 0.7301 - val_loss: 1.0277 - val_accuracy: 0.6320\n",
      "Epoch 81/150\n",
      "47/47 [==============================] - 0s 4ms/step - loss: 0.7202 - accuracy: 0.7318 - val_loss: 1.0285 - val_accuracy: 0.6310\n",
      "Epoch 82/150\n",
      "47/47 [==============================] - 0s 4ms/step - loss: 0.7158 - accuracy: 0.7330 - val_loss: 1.0298 - val_accuracy: 0.6380\n",
      "Epoch 83/150\n",
      "47/47 [==============================] - 0s 4ms/step - loss: 0.7118 - accuracy: 0.7346 - val_loss: 1.0300 - val_accuracy: 0.6320\n",
      "Epoch 84/150\n",
      "47/47 [==============================] - 0s 5ms/step - loss: 0.7074 - accuracy: 0.7371 - val_loss: 1.0309 - val_accuracy: 0.6330\n",
      "Epoch 85/150\n",
      "47/47 [==============================] - 0s 5ms/step - loss: 0.7032 - accuracy: 0.7398 - val_loss: 1.0309 - val_accuracy: 0.6330\n",
      "Epoch 86/150\n",
      "47/47 [==============================] - 0s 5ms/step - loss: 0.6991 - accuracy: 0.7406 - val_loss: 1.0318 - val_accuracy: 0.6300\n",
      "Epoch 87/150\n",
      "47/47 [==============================] - 0s 4ms/step - loss: 0.6954 - accuracy: 0.7424 - val_loss: 1.0329 - val_accuracy: 0.6350\n",
      "Epoch 88/150\n",
      "47/47 [==============================] - 0s 5ms/step - loss: 0.6909 - accuracy: 0.7427 - val_loss: 1.0337 - val_accuracy: 0.6370\n",
      "Epoch 89/150\n",
      "47/47 [==============================] - 0s 6ms/step - loss: 0.6869 - accuracy: 0.7464 - val_loss: 1.0346 - val_accuracy: 0.6360\n",
      "Epoch 90/150\n",
      "47/47 [==============================] - 0s 6ms/step - loss: 0.6827 - accuracy: 0.7482 - val_loss: 1.0358 - val_accuracy: 0.6340\n",
      "Epoch 91/150\n",
      "47/47 [==============================] - 0s 7ms/step - loss: 0.6790 - accuracy: 0.7503 - val_loss: 1.0367 - val_accuracy: 0.6380\n",
      "Epoch 92/150\n",
      "47/47 [==============================] - 0s 6ms/step - loss: 0.6749 - accuracy: 0.7506 - val_loss: 1.0381 - val_accuracy: 0.6390\n",
      "Epoch 93/150\n",
      "47/47 [==============================] - 0s 6ms/step - loss: 0.6712 - accuracy: 0.7519 - val_loss: 1.0394 - val_accuracy: 0.6360\n",
      "Epoch 94/150\n",
      "47/47 [==============================] - 0s 6ms/step - loss: 0.6676 - accuracy: 0.7547 - val_loss: 1.0408 - val_accuracy: 0.6370\n",
      "Epoch 95/150\n",
      "47/47 [==============================] - 0s 6ms/step - loss: 0.6629 - accuracy: 0.7559 - val_loss: 1.0410 - val_accuracy: 0.6310\n",
      "Epoch 96/150\n",
      "47/47 [==============================] - 0s 6ms/step - loss: 0.6596 - accuracy: 0.7584 - val_loss: 1.0439 - val_accuracy: 0.6250\n",
      "Epoch 97/150\n",
      "47/47 [==============================] - 0s 6ms/step - loss: 0.6556 - accuracy: 0.7594 - val_loss: 1.0442 - val_accuracy: 0.6340\n",
      "Epoch 98/150\n",
      "47/47 [==============================] - 0s 5ms/step - loss: 0.6518 - accuracy: 0.7613 - val_loss: 1.0460 - val_accuracy: 0.6280\n",
      "Epoch 99/150\n",
      "47/47 [==============================] - 0s 5ms/step - loss: 0.6480 - accuracy: 0.7639 - val_loss: 1.0473 - val_accuracy: 0.6330\n",
      "Epoch 100/150\n",
      "47/47 [==============================] - 0s 5ms/step - loss: 0.6442 - accuracy: 0.7654 - val_loss: 1.0475 - val_accuracy: 0.6270\n",
      "Epoch 101/150\n",
      "47/47 [==============================] - 0s 5ms/step - loss: 0.6404 - accuracy: 0.7684 - val_loss: 1.0490 - val_accuracy: 0.6240\n",
      "Epoch 102/150\n",
      "47/47 [==============================] - 0s 5ms/step - loss: 0.6365 - accuracy: 0.7694 - val_loss: 1.0508 - val_accuracy: 0.6290\n",
      "Epoch 103/150\n",
      "47/47 [==============================] - 0s 5ms/step - loss: 0.6330 - accuracy: 0.7707 - val_loss: 1.0532 - val_accuracy: 0.6320\n",
      "Epoch 104/150\n",
      "47/47 [==============================] - 0s 4ms/step - loss: 0.6290 - accuracy: 0.7730 - val_loss: 1.0541 - val_accuracy: 0.6250\n",
      "Epoch 105/150\n",
      "47/47 [==============================] - 0s 4ms/step - loss: 0.6257 - accuracy: 0.7730 - val_loss: 1.0551 - val_accuracy: 0.6270\n",
      "Epoch 106/150\n",
      "47/47 [==============================] - 0s 5ms/step - loss: 0.6218 - accuracy: 0.7754 - val_loss: 1.0579 - val_accuracy: 0.6340\n",
      "Epoch 107/150\n",
      "47/47 [==============================] - 0s 5ms/step - loss: 0.6182 - accuracy: 0.7769 - val_loss: 1.0584 - val_accuracy: 0.6290\n",
      "Epoch 108/150\n",
      "47/47 [==============================] - 0s 5ms/step - loss: 0.6143 - accuracy: 0.7784 - val_loss: 1.0597 - val_accuracy: 0.6300\n",
      "Epoch 109/150\n",
      "47/47 [==============================] - 0s 5ms/step - loss: 0.6109 - accuracy: 0.7808 - val_loss: 1.0613 - val_accuracy: 0.6260\n",
      "Epoch 110/150\n",
      "47/47 [==============================] - 0s 5ms/step - loss: 0.6072 - accuracy: 0.7814 - val_loss: 1.0628 - val_accuracy: 0.6260\n",
      "Epoch 111/150\n",
      "47/47 [==============================] - 0s 5ms/step - loss: 0.6035 - accuracy: 0.7829 - val_loss: 1.0644 - val_accuracy: 0.6250\n",
      "Epoch 112/150\n",
      "47/47 [==============================] - 0s 5ms/step - loss: 0.5997 - accuracy: 0.7844 - val_loss: 1.0674 - val_accuracy: 0.6220\n",
      "Epoch 113/150\n",
      "47/47 [==============================] - 0s 5ms/step - loss: 0.5966 - accuracy: 0.7859 - val_loss: 1.0681 - val_accuracy: 0.6270\n",
      "Epoch 114/150\n",
      "47/47 [==============================] - 0s 5ms/step - loss: 0.5924 - accuracy: 0.7895 - val_loss: 1.0699 - val_accuracy: 0.6240\n",
      "Epoch 115/150\n",
      "47/47 [==============================] - 0s 4ms/step - loss: 0.5890 - accuracy: 0.7894 - val_loss: 1.0718 - val_accuracy: 0.6250\n",
      "Epoch 116/150\n",
      "47/47 [==============================] - 0s 4ms/step - loss: 0.5852 - accuracy: 0.7915 - val_loss: 1.0738 - val_accuracy: 0.6220\n",
      "Epoch 117/150\n",
      "47/47 [==============================] - 0s 4ms/step - loss: 0.5818 - accuracy: 0.7921 - val_loss: 1.0764 - val_accuracy: 0.6220\n",
      "Epoch 118/150\n",
      "47/47 [==============================] - 0s 4ms/step - loss: 0.5782 - accuracy: 0.7944 - val_loss: 1.0777 - val_accuracy: 0.6240\n",
      "Epoch 119/150\n",
      "47/47 [==============================] - 0s 5ms/step - loss: 0.5747 - accuracy: 0.7959 - val_loss: 1.0796 - val_accuracy: 0.6240\n",
      "Epoch 120/150\n",
      "47/47 [==============================] - 0s 4ms/step - loss: 0.5711 - accuracy: 0.7973 - val_loss: 1.0819 - val_accuracy: 0.6240\n",
      "Epoch 121/150\n",
      "47/47 [==============================] - 0s 5ms/step - loss: 0.5676 - accuracy: 0.8001 - val_loss: 1.0841 - val_accuracy: 0.6230\n",
      "Epoch 122/150\n",
      "47/47 [==============================] - 0s 5ms/step - loss: 0.5640 - accuracy: 0.8017 - val_loss: 1.0861 - val_accuracy: 0.6210\n",
      "Epoch 123/150\n",
      "47/47 [==============================] - 0s 5ms/step - loss: 0.5605 - accuracy: 0.8020 - val_loss: 1.0889 - val_accuracy: 0.6280\n",
      "Epoch 124/150\n",
      "47/47 [==============================] - 0s 4ms/step - loss: 0.5571 - accuracy: 0.8038 - val_loss: 1.0909 - val_accuracy: 0.6260\n",
      "Epoch 125/150\n",
      "47/47 [==============================] - 0s 5ms/step - loss: 0.5533 - accuracy: 0.8055 - val_loss: 1.0922 - val_accuracy: 0.6230\n",
      "Epoch 126/150\n",
      "47/47 [==============================] - 0s 4ms/step - loss: 0.5499 - accuracy: 0.8072 - val_loss: 1.0954 - val_accuracy: 0.6310\n",
      "Epoch 127/150\n",
      "47/47 [==============================] - 0s 4ms/step - loss: 0.5465 - accuracy: 0.8078 - val_loss: 1.0964 - val_accuracy: 0.6230\n",
      "Epoch 128/150\n",
      "47/47 [==============================] - 0s 4ms/step - loss: 0.5433 - accuracy: 0.8103 - val_loss: 1.0984 - val_accuracy: 0.6220\n",
      "Epoch 129/150\n",
      "47/47 [==============================] - 0s 5ms/step - loss: 0.5397 - accuracy: 0.8098 - val_loss: 1.1008 - val_accuracy: 0.6210\n",
      "Epoch 130/150\n",
      "47/47 [==============================] - 0s 4ms/step - loss: 0.5364 - accuracy: 0.8138 - val_loss: 1.1032 - val_accuracy: 0.6240\n",
      "Epoch 131/150\n",
      "47/47 [==============================] - 0s 4ms/step - loss: 0.5322 - accuracy: 0.8153 - val_loss: 1.1051 - val_accuracy: 0.6260\n",
      "Epoch 132/150\n",
      "47/47 [==============================] - 0s 5ms/step - loss: 0.5291 - accuracy: 0.8176 - val_loss: 1.1081 - val_accuracy: 0.6200\n",
      "Epoch 133/150\n",
      "47/47 [==============================] - 0s 4ms/step - loss: 0.5257 - accuracy: 0.8189 - val_loss: 1.1100 - val_accuracy: 0.6230\n",
      "Epoch 134/150\n",
      "47/47 [==============================] - 0s 4ms/step - loss: 0.5226 - accuracy: 0.8199 - val_loss: 1.1126 - val_accuracy: 0.6220\n",
      "Epoch 135/150\n",
      "47/47 [==============================] - 0s 6ms/step - loss: 0.5185 - accuracy: 0.8218 - val_loss: 1.1157 - val_accuracy: 0.6170\n",
      "Epoch 136/150\n",
      "47/47 [==============================] - 0s 7ms/step - loss: 0.5154 - accuracy: 0.8240 - val_loss: 1.1172 - val_accuracy: 0.6220\n",
      "Epoch 137/150\n",
      "47/47 [==============================] - 0s 6ms/step - loss: 0.5117 - accuracy: 0.8258 - val_loss: 1.1208 - val_accuracy: 0.6180\n",
      "Epoch 138/150\n",
      "47/47 [==============================] - 0s 5ms/step - loss: 0.5081 - accuracy: 0.8284 - val_loss: 1.1237 - val_accuracy: 0.6170\n",
      "Epoch 139/150\n",
      "47/47 [==============================] - 0s 5ms/step - loss: 0.5047 - accuracy: 0.8295 - val_loss: 1.1249 - val_accuracy: 0.6230\n",
      "Epoch 140/150\n",
      "47/47 [==============================] - 0s 6ms/step - loss: 0.5015 - accuracy: 0.8308 - val_loss: 1.1278 - val_accuracy: 0.6180\n",
      "Epoch 141/150\n",
      "47/47 [==============================] - 0s 6ms/step - loss: 0.4981 - accuracy: 0.8331 - val_loss: 1.1314 - val_accuracy: 0.6170\n",
      "Epoch 142/150\n",
      "47/47 [==============================] - 0s 7ms/step - loss: 0.4944 - accuracy: 0.8356 - val_loss: 1.1329 - val_accuracy: 0.6180\n",
      "Epoch 143/150\n",
      "47/47 [==============================] - 0s 6ms/step - loss: 0.4912 - accuracy: 0.8359 - val_loss: 1.1354 - val_accuracy: 0.6160\n",
      "Epoch 144/150\n",
      "47/47 [==============================] - 0s 6ms/step - loss: 0.4877 - accuracy: 0.8382 - val_loss: 1.1384 - val_accuracy: 0.6130\n",
      "Epoch 145/150\n",
      "47/47 [==============================] - 0s 5ms/step - loss: 0.4846 - accuracy: 0.8385 - val_loss: 1.1408 - val_accuracy: 0.6160\n",
      "Epoch 146/150\n",
      "47/47 [==============================] - 0s 4ms/step - loss: 0.4811 - accuracy: 0.8398 - val_loss: 1.1436 - val_accuracy: 0.6160\n",
      "Epoch 147/150\n",
      "47/47 [==============================] - 0s 5ms/step - loss: 0.4778 - accuracy: 0.8422 - val_loss: 1.1473 - val_accuracy: 0.6130\n",
      "Epoch 148/150\n",
      "47/47 [==============================] - 0s 4ms/step - loss: 0.4743 - accuracy: 0.8439 - val_loss: 1.1494 - val_accuracy: 0.6130\n",
      "Epoch 149/150\n",
      "47/47 [==============================] - 0s 5ms/step - loss: 0.4708 - accuracy: 0.8442 - val_loss: 1.1525 - val_accuracy: 0.6160\n",
      "Epoch 150/150\n",
      "47/47 [==============================] - 0s 4ms/step - loss: 0.4673 - accuracy: 0.8479 - val_loss: 1.1559 - val_accuracy: 0.6140\n"
     ]
    }
   ],
   "source": [
    "baseline_model_val = baseline_model.fit(X_train_tokens, y_train_lb,\n",
    "                                       epochs = 150,\n",
    "                                       batch_size = 256,\n",
    "                                       validation_data = (X_val_tokens, y_val_lb))"
   ]
  },
  {
   "cell_type": "code",
   "execution_count": 53,
   "metadata": {},
   "outputs": [
    {
     "data": {
      "text/plain": [
       "dict_keys(['loss', 'accuracy', 'val_loss', 'val_accuracy'])"
      ]
     },
     "execution_count": 53,
     "metadata": {},
     "output_type": "execute_result"
    }
   ],
   "source": [
    "baseline_model_val_dict = baseline_model_val.history\n",
    "\n",
    "# Print the keys\n",
    "baseline_model_val_dict.keys()"
   ]
  },
  {
   "cell_type": "code",
   "execution_count": 57,
   "metadata": {},
   "outputs": [
    {
     "name": "stdout",
     "output_type": "stream",
     "text": [
      "375/375 [==============================] - 0s 551us/step - loss: 0.4604 - accuracy: 0.8514\n",
      "----------\n",
      "Training Loss: 0.46 \n",
      "Training Accuracy: 0.851\n"
     ]
    }
   ],
   "source": [
    "results_train = baseline_model.evaluate(X_train_tokens, y_train_lb)\n",
    "print('----------')\n",
    "print(f'Training Loss: {results_train[0]:.3} \\nTraining Accuracy: {results_train[1]:.3}')"
   ]
  },
  {
   "cell_type": "code",
   "execution_count": 58,
   "metadata": {},
   "outputs": [
    {
     "name": "stdout",
     "output_type": "stream",
     "text": [
      "32/32 [==============================] - 0s 724us/step - loss: 1.1559 - accuracy: 0.6140\n",
      "----------\n",
      "Training Loss: 1.16 \n",
      "Training Accuracy: 0.614\n"
     ]
    }
   ],
   "source": [
    "results_val = baseline_model.evaluate(X_val_tokens, y_val_lb)\n",
    "print('----------')\n",
    "print(f'Training Loss: {results_val[0]:.3} \\nTraining Accuracy: {results_val[1]:.3}')"
   ]
  },
  {
   "cell_type": "code",
   "execution_count": 59,
   "metadata": {},
   "outputs": [
    {
     "name": "stdout",
     "output_type": "stream",
     "text": [
      "47/47 [==============================] - 0s 672us/step - loss: 1.2466 - accuracy: 0.5900\n",
      "----------\n",
      "Test Loss: 1.25 \n",
      "Test Accuracy: 0.59\n"
     ]
    }
   ],
   "source": [
    "results_test = baseline_model.evaluate(X_test_tokens, y_test_lb)\n",
    "print('----------')\n",
    "print(f'Test Loss: {results_test[0]:.3} \\nTest Accuracy: {results_test[1]:.3}')"
   ]
  },
  {
   "cell_type": "code",
   "execution_count": null,
   "metadata": {},
   "outputs": [],
   "source": []
  }
 ],
 "metadata": {
  "kernelspec": {
   "display_name": "learn-env",
   "language": "python",
   "name": "learn-env"
  },
  "language_info": {
   "codemirror_mode": {
    "name": "ipython",
    "version": 3
   },
   "file_extension": ".py",
   "mimetype": "text/x-python",
   "name": "python",
   "nbconvert_exporter": "python",
   "pygments_lexer": "ipython3",
   "version": "3.8.5"
  },
  "toc": {
   "base_numbering": 1,
   "nav_menu": {},
   "number_sections": true,
   "sideBar": true,
   "skip_h1_title": false,
   "title_cell": "Table of Contents",
   "title_sidebar": "Contents",
   "toc_cell": false,
   "toc_position": {
    "height": "calc(100% - 180px)",
    "left": "10px",
    "top": "150px",
    "width": "307.2px"
   },
   "toc_section_display": true,
   "toc_window_display": false
  }
 },
 "nbformat": 4,
 "nbformat_minor": 4
}
